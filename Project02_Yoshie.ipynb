{
 "cells": [
  {
   "cell_type": "markdown",
   "metadata": {},
   "source": [
    "<figure>\n",
    "  <IMG SRC=\"https://www.colorado.edu/cs/profiles/express/themes/cuspirit/logo.png\" WIDTH=50 ALIGN=\"right\">\n",
    "</figure>\n",
    "\n",
    "*CSPB 4830 - Yoshie Bell-Souder*"
   ]
  },
  {
   "cell_type": "markdown",
   "metadata": {
    "slideshow": {
     "slide_type": "-"
    }
   },
   "source": [
    "   ## <font color='#7d1010'>Identify mushroom types</font>"
   ]
  },
  {
   "cell_type": "markdown",
   "metadata": {},
   "source": [
    "## <font color='#7d1010'>1. Introduction</font>"
   ]
  },
  {
   "cell_type": "markdown",
   "metadata": {
    "slideshow": {
     "slide_type": "-"
    }
   },
   "source": [
    "There are so many kinds of mushrooms in the world. It was said more than 2.2 million kinds of mushrooms. Mushrooms are paid attention as nutrition and natural resource, value to recreational foragers.  There are still debates about how to eat, and how safe to eat.  I would like to use clustering algorithms on the mushroom data to identify mushroom types.  I will use the data for an unsupervised learning model, to evaluate edible mushrooms or not. "
   ]
  },
  {
   "cell_type": "markdown",
   "metadata": {},
   "source": [
    "## <font color='#7d1010'>2. Data collection</font>"
   ]
  },
  {
   "cell_type": "markdown",
   "metadata": {},
   "source": [
    "The dataset came from Product of bachelor thesis at Philipps-University Marburg, Bioinformatics Division, supervised by Dr. G. Hattab. The data originally comes from: https://archive.ics.uci.edu/ml/datasets/Secondary+Mushroom+Dataset with Mushroom species drawn from source book:Patrick Hardin.Mushrooms & Toadstools.Zondervan, 1999\n",
    "\n",
    "There are 20 features. and one target.  \n",
    "\n",
    "<b>Original Datasize:</b> 2821 kb, 61069 samples, 20 mushroom features.\n",
    "\n",
    "\n",
    "- 20 features\n",
    "   1. cap-diameter (m):\t\t\tfloat number in cm\n",
    "   2. cap-shape (n):            bell=b, conical=c, convex=x, flat=f, sunken=s, spherical=p, others=o\n",
    "   3. cap-surface (n):          fibrous=i, grooves=g, scaly=y, smooth=s, shiny=h, leathery=l, silky=k, sticky=t, wrinkled=w, fleshy=e\n",
    "   4. cap-color (n):            brown=n, buff=b, gray=g, green=r, pink=p, purple=u, red=e, white=w, yellow=y, blue=l, orange=o,  black=k\n",
    "   5. does-bruise-bleed (n):\tbruises-or-bleeding=t,no=f\n",
    "   6. gill-attachment (n):      adnate=a, adnexed=x, decurrent=d, free=e, sinuate=s, pores=p, none=f, unknown=?\n",
    "   7. gill-spacing (n):         close=c, distant=d, none=f\n",
    "   8. gill-color (n):           brown=n, buff=b, gray=g, green=r, pink=p, purple=u, red=e, white=w, yellow=y, blue=l, orange=o,  black=k,  none=f\n",
    "   9. stem-height (m):\t\t\tfloat number in cm\n",
    "   10. stem-width (m):\t\t\tfloat number in mm   \n",
    "   11. stem-root (n):           bulbous=b, swollen=s, club=c, cup=u, equal=e, rhizomorphs=z, rooted=r\n",
    "   12. stem-surface (n): \t\tfibrous=i, grooves=g, scaly=y, smooth=s, shiny=h, leathery=l, silky=k, sticky=t, wrinkled=w, fleshy=e, none=f\n",
    "   13. stem-color (n):\t\t\tbrown=n, buff=b, gray=g, green=r, pink=p, purple=u, red=e, white=w, yellow=y, blue=l, orange=o,  black=k, none=f\n",
    "   14. veil-type (n):           partial=p, universal=u\n",
    "   15. veil-color (n):          brown=n, buff=b, gray=g, green=r, pink=p, purple=u, red=e, white=w, yellow=y, blue=l, orange=o,  black=k, none=f\n",
    "   16. has-ring (n):            ring=t, none=f\n",
    "   17. ring-type (n):           cobwebby=c, evanescent=e, flaring=r, grooved=g, large=l, pendant=p, sheathing=s, zone=z, scaly=y, movable=m, none=f, unknown=?\n",
    "   18. spore-print-color (n):   brown=n, buff=b, gray=g, green=r, pink=p, purple=u, red=e, white=w, yellow=y, blue=l, orange=o,  black=k\n",
    "   19. habitat (n):             grasses=g, leaves=l, meadows=m, paths=p, heaths=h, urban=u, waste=w, woods=d\n",
    "   20. season (n):\t\t\t\tspring=s, summer=u, autumn=a, winter=w</br>\n",
    "  \n",
    "  \n",
    "- target: poison(p) / edible(e) "
   ]
  },
  {
   "cell_type": "code",
   "execution_count": 3,
   "metadata": {},
   "outputs": [],
   "source": [
    "%matplotlib inline\n",
    "import pandas as pd\n",
    "import matplotlib.pyplot as plt\n",
    "import numpy as np\n",
    "import seaborn as sns\n",
    "from sklearn.cluster import AgglomerativeClustering, KMeans\n",
    "from sklearn.metrics import accuracy_score, confusion_matrix\n",
    "import time\n",
    "df = pd.read_csv('MushroomDataset\\data.csv')\n",
    "df_original = pd.read_csv('MushroomDataset\\data.csv')\n",
    "target = pd.read_csv('MushroomDataset\\label_data.csv')\n",
    "# labels = df['class']"
   ]
  },
  {
   "cell_type": "code",
   "execution_count": 4,
   "metadata": {},
   "outputs": [
    {
     "data": {
      "text/html": [
       "<div>\n",
       "<style scoped>\n",
       "    .dataframe tbody tr th:only-of-type {\n",
       "        vertical-align: middle;\n",
       "    }\n",
       "\n",
       "    .dataframe tbody tr th {\n",
       "        vertical-align: top;\n",
       "    }\n",
       "\n",
       "    .dataframe thead th {\n",
       "        text-align: right;\n",
       "    }\n",
       "</style>\n",
       "<table border=\"1\" class=\"dataframe\">\n",
       "  <thead>\n",
       "    <tr style=\"text-align: right;\">\n",
       "      <th></th>\n",
       "      <th>class</th>\n",
       "    </tr>\n",
       "  </thead>\n",
       "  <tbody>\n",
       "    <tr>\n",
       "      <th>0</th>\n",
       "      <td>p</td>\n",
       "    </tr>\n",
       "    <tr>\n",
       "      <th>1</th>\n",
       "      <td>p</td>\n",
       "    </tr>\n",
       "    <tr>\n",
       "      <th>2</th>\n",
       "      <td>p</td>\n",
       "    </tr>\n",
       "    <tr>\n",
       "      <th>3</th>\n",
       "      <td>p</td>\n",
       "    </tr>\n",
       "    <tr>\n",
       "      <th>4</th>\n",
       "      <td>p</td>\n",
       "    </tr>\n",
       "  </tbody>\n",
       "</table>\n",
       "</div>"
      ],
      "text/plain": [
       "  class\n",
       "0     p\n",
       "1     p\n",
       "2     p\n",
       "3     p\n",
       "4     p"
      ]
     },
     "execution_count": 4,
     "metadata": {},
     "output_type": "execute_result"
    }
   ],
   "source": [
    "#Preview the dataset of target\n",
    "target.head()"
   ]
  },
  {
   "cell_type": "code",
   "execution_count": 5,
   "metadata": {},
   "outputs": [
    {
     "data": {
      "text/html": [
       "<div>\n",
       "<style scoped>\n",
       "    .dataframe tbody tr th:only-of-type {\n",
       "        vertical-align: middle;\n",
       "    }\n",
       "\n",
       "    .dataframe tbody tr th {\n",
       "        vertical-align: top;\n",
       "    }\n",
       "\n",
       "    .dataframe thead th {\n",
       "        text-align: right;\n",
       "    }\n",
       "</style>\n",
       "<table border=\"1\" class=\"dataframe\">\n",
       "  <thead>\n",
       "    <tr style=\"text-align: right;\">\n",
       "      <th></th>\n",
       "      <th>class</th>\n",
       "      <th>cap-diameter</th>\n",
       "      <th>cap-shape</th>\n",
       "      <th>cap-surface</th>\n",
       "      <th>cap-color</th>\n",
       "      <th>does-bruise-or-bleed</th>\n",
       "      <th>gill-attachment</th>\n",
       "      <th>gill-spacing</th>\n",
       "      <th>gill-color</th>\n",
       "      <th>stem-height</th>\n",
       "      <th>...</th>\n",
       "      <th>stem-root</th>\n",
       "      <th>stem-surface</th>\n",
       "      <th>stem-color</th>\n",
       "      <th>veil-type</th>\n",
       "      <th>veil-color</th>\n",
       "      <th>has-ring</th>\n",
       "      <th>ring-type</th>\n",
       "      <th>spore-print-color</th>\n",
       "      <th>habitat</th>\n",
       "      <th>season</th>\n",
       "    </tr>\n",
       "  </thead>\n",
       "  <tbody>\n",
       "    <tr>\n",
       "      <th>0</th>\n",
       "      <td>p</td>\n",
       "      <td>15.26</td>\n",
       "      <td>x</td>\n",
       "      <td>g</td>\n",
       "      <td>o</td>\n",
       "      <td>f</td>\n",
       "      <td>e</td>\n",
       "      <td>NaN</td>\n",
       "      <td>w</td>\n",
       "      <td>16.95</td>\n",
       "      <td>...</td>\n",
       "      <td>s</td>\n",
       "      <td>y</td>\n",
       "      <td>w</td>\n",
       "      <td>u</td>\n",
       "      <td>w</td>\n",
       "      <td>t</td>\n",
       "      <td>g</td>\n",
       "      <td>NaN</td>\n",
       "      <td>d</td>\n",
       "      <td>w</td>\n",
       "    </tr>\n",
       "    <tr>\n",
       "      <th>1</th>\n",
       "      <td>p</td>\n",
       "      <td>16.60</td>\n",
       "      <td>x</td>\n",
       "      <td>g</td>\n",
       "      <td>o</td>\n",
       "      <td>f</td>\n",
       "      <td>e</td>\n",
       "      <td>NaN</td>\n",
       "      <td>w</td>\n",
       "      <td>17.99</td>\n",
       "      <td>...</td>\n",
       "      <td>s</td>\n",
       "      <td>y</td>\n",
       "      <td>w</td>\n",
       "      <td>u</td>\n",
       "      <td>w</td>\n",
       "      <td>t</td>\n",
       "      <td>g</td>\n",
       "      <td>NaN</td>\n",
       "      <td>d</td>\n",
       "      <td>u</td>\n",
       "    </tr>\n",
       "    <tr>\n",
       "      <th>2</th>\n",
       "      <td>p</td>\n",
       "      <td>14.07</td>\n",
       "      <td>x</td>\n",
       "      <td>g</td>\n",
       "      <td>o</td>\n",
       "      <td>f</td>\n",
       "      <td>e</td>\n",
       "      <td>NaN</td>\n",
       "      <td>w</td>\n",
       "      <td>17.80</td>\n",
       "      <td>...</td>\n",
       "      <td>s</td>\n",
       "      <td>y</td>\n",
       "      <td>w</td>\n",
       "      <td>u</td>\n",
       "      <td>w</td>\n",
       "      <td>t</td>\n",
       "      <td>g</td>\n",
       "      <td>NaN</td>\n",
       "      <td>d</td>\n",
       "      <td>w</td>\n",
       "    </tr>\n",
       "    <tr>\n",
       "      <th>3</th>\n",
       "      <td>p</td>\n",
       "      <td>14.17</td>\n",
       "      <td>f</td>\n",
       "      <td>h</td>\n",
       "      <td>e</td>\n",
       "      <td>f</td>\n",
       "      <td>e</td>\n",
       "      <td>NaN</td>\n",
       "      <td>w</td>\n",
       "      <td>15.77</td>\n",
       "      <td>...</td>\n",
       "      <td>s</td>\n",
       "      <td>y</td>\n",
       "      <td>w</td>\n",
       "      <td>u</td>\n",
       "      <td>w</td>\n",
       "      <td>t</td>\n",
       "      <td>p</td>\n",
       "      <td>NaN</td>\n",
       "      <td>d</td>\n",
       "      <td>w</td>\n",
       "    </tr>\n",
       "    <tr>\n",
       "      <th>4</th>\n",
       "      <td>p</td>\n",
       "      <td>14.64</td>\n",
       "      <td>x</td>\n",
       "      <td>h</td>\n",
       "      <td>o</td>\n",
       "      <td>f</td>\n",
       "      <td>e</td>\n",
       "      <td>NaN</td>\n",
       "      <td>w</td>\n",
       "      <td>16.53</td>\n",
       "      <td>...</td>\n",
       "      <td>s</td>\n",
       "      <td>y</td>\n",
       "      <td>w</td>\n",
       "      <td>u</td>\n",
       "      <td>w</td>\n",
       "      <td>t</td>\n",
       "      <td>p</td>\n",
       "      <td>NaN</td>\n",
       "      <td>d</td>\n",
       "      <td>w</td>\n",
       "    </tr>\n",
       "  </tbody>\n",
       "</table>\n",
       "<p>5 rows × 21 columns</p>\n",
       "</div>"
      ],
      "text/plain": [
       "  class  cap-diameter cap-shape cap-surface cap-color does-bruise-or-bleed  \\\n",
       "0     p         15.26         x           g         o                    f   \n",
       "1     p         16.60         x           g         o                    f   \n",
       "2     p         14.07         x           g         o                    f   \n",
       "3     p         14.17         f           h         e                    f   \n",
       "4     p         14.64         x           h         o                    f   \n",
       "\n",
       "  gill-attachment gill-spacing gill-color  stem-height  ...  stem-root  \\\n",
       "0               e          NaN          w        16.95  ...          s   \n",
       "1               e          NaN          w        17.99  ...          s   \n",
       "2               e          NaN          w        17.80  ...          s   \n",
       "3               e          NaN          w        15.77  ...          s   \n",
       "4               e          NaN          w        16.53  ...          s   \n",
       "\n",
       "  stem-surface stem-color veil-type veil-color has-ring ring-type  \\\n",
       "0            y          w         u          w        t         g   \n",
       "1            y          w         u          w        t         g   \n",
       "2            y          w         u          w        t         g   \n",
       "3            y          w         u          w        t         p   \n",
       "4            y          w         u          w        t         p   \n",
       "\n",
       "  spore-print-color habitat season  \n",
       "0               NaN       d      w  \n",
       "1               NaN       d      u  \n",
       "2               NaN       d      w  \n",
       "3               NaN       d      w  \n",
       "4               NaN       d      w  \n",
       "\n",
       "[5 rows x 21 columns]"
      ]
     },
     "execution_count": 5,
     "metadata": {},
     "output_type": "execute_result"
    }
   ],
   "source": [
    "#Preview the dataset\n",
    "df.head()"
   ]
  },
  {
   "cell_type": "code",
   "execution_count": 6,
   "metadata": {},
   "outputs": [
    {
     "data": {
      "text/plain": [
       "(61069, 21)"
      ]
     },
     "execution_count": 6,
     "metadata": {},
     "output_type": "execute_result"
    }
   ],
   "source": [
    "#Check shape of the dataset\n",
    "df.shape"
   ]
  },
  {
   "cell_type": "code",
   "execution_count": 7,
   "metadata": {},
   "outputs": [
    {
     "name": "stdout",
     "output_type": "stream",
     "text": [
      "<class 'pandas.core.frame.DataFrame'>\n",
      "RangeIndex: 61069 entries, 0 to 61068\n",
      "Data columns (total 21 columns):\n",
      " #   Column                Non-Null Count  Dtype  \n",
      "---  ------                --------------  -----  \n",
      " 0   class                 61069 non-null  object \n",
      " 1   cap-diameter          61069 non-null  float64\n",
      " 2   cap-shape             61069 non-null  object \n",
      " 3   cap-surface           46949 non-null  object \n",
      " 4   cap-color             61069 non-null  object \n",
      " 5   does-bruise-or-bleed  61069 non-null  object \n",
      " 6   gill-attachment       51185 non-null  object \n",
      " 7   gill-spacing          36006 non-null  object \n",
      " 8   gill-color            61069 non-null  object \n",
      " 9   stem-height           61069 non-null  float64\n",
      " 10  stem-width            61069 non-null  float64\n",
      " 11  stem-root             9531 non-null   object \n",
      " 12  stem-surface          22945 non-null  object \n",
      " 13  stem-color            61069 non-null  object \n",
      " 14  veil-type             3177 non-null   object \n",
      " 15  veil-color            7413 non-null   object \n",
      " 16  has-ring              61069 non-null  object \n",
      " 17  ring-type             58598 non-null  object \n",
      " 18  spore-print-color     6354 non-null   object \n",
      " 19  habitat               61069 non-null  object \n",
      " 20  season                61069 non-null  object \n",
      "dtypes: float64(3), object(18)\n",
      "memory usage: 9.8+ MB\n"
     ]
    }
   ],
   "source": [
    "#View summary of dataset\n",
    "df.info()"
   ]
  },
  {
   "cell_type": "markdown",
   "metadata": {},
   "source": [
    "## <font color='#7d1010'>3. Data processing, cleanup and EDA</font>"
   ]
  },
  {
   "cell_type": "code",
   "execution_count": 8,
   "metadata": {},
   "outputs": [
    {
     "data": {
      "text/html": [
       "<div>\n",
       "<style scoped>\n",
       "    .dataframe tbody tr th:only-of-type {\n",
       "        vertical-align: middle;\n",
       "    }\n",
       "\n",
       "    .dataframe tbody tr th {\n",
       "        vertical-align: top;\n",
       "    }\n",
       "\n",
       "    .dataframe thead th {\n",
       "        text-align: right;\n",
       "    }\n",
       "</style>\n",
       "<table border=\"1\" class=\"dataframe\">\n",
       "  <thead>\n",
       "    <tr style=\"text-align: right;\">\n",
       "      <th></th>\n",
       "      <th>Missing Values</th>\n",
       "    </tr>\n",
       "  </thead>\n",
       "  <tbody>\n",
       "    <tr>\n",
       "      <th>class</th>\n",
       "      <td>0</td>\n",
       "    </tr>\n",
       "    <tr>\n",
       "      <th>cap-diameter</th>\n",
       "      <td>0</td>\n",
       "    </tr>\n",
       "    <tr>\n",
       "      <th>cap-shape</th>\n",
       "      <td>0</td>\n",
       "    </tr>\n",
       "    <tr>\n",
       "      <th>cap-surface</th>\n",
       "      <td>14120</td>\n",
       "    </tr>\n",
       "    <tr>\n",
       "      <th>cap-color</th>\n",
       "      <td>0</td>\n",
       "    </tr>\n",
       "    <tr>\n",
       "      <th>does-bruise-or-bleed</th>\n",
       "      <td>0</td>\n",
       "    </tr>\n",
       "    <tr>\n",
       "      <th>gill-attachment</th>\n",
       "      <td>9884</td>\n",
       "    </tr>\n",
       "    <tr>\n",
       "      <th>gill-spacing</th>\n",
       "      <td>25063</td>\n",
       "    </tr>\n",
       "    <tr>\n",
       "      <th>gill-color</th>\n",
       "      <td>0</td>\n",
       "    </tr>\n",
       "    <tr>\n",
       "      <th>stem-height</th>\n",
       "      <td>0</td>\n",
       "    </tr>\n",
       "    <tr>\n",
       "      <th>stem-width</th>\n",
       "      <td>0</td>\n",
       "    </tr>\n",
       "    <tr>\n",
       "      <th>stem-root</th>\n",
       "      <td>51538</td>\n",
       "    </tr>\n",
       "    <tr>\n",
       "      <th>stem-surface</th>\n",
       "      <td>38124</td>\n",
       "    </tr>\n",
       "    <tr>\n",
       "      <th>stem-color</th>\n",
       "      <td>0</td>\n",
       "    </tr>\n",
       "    <tr>\n",
       "      <th>veil-type</th>\n",
       "      <td>57892</td>\n",
       "    </tr>\n",
       "    <tr>\n",
       "      <th>veil-color</th>\n",
       "      <td>53656</td>\n",
       "    </tr>\n",
       "    <tr>\n",
       "      <th>has-ring</th>\n",
       "      <td>0</td>\n",
       "    </tr>\n",
       "    <tr>\n",
       "      <th>ring-type</th>\n",
       "      <td>2471</td>\n",
       "    </tr>\n",
       "    <tr>\n",
       "      <th>spore-print-color</th>\n",
       "      <td>54715</td>\n",
       "    </tr>\n",
       "    <tr>\n",
       "      <th>habitat</th>\n",
       "      <td>0</td>\n",
       "    </tr>\n",
       "    <tr>\n",
       "      <th>season</th>\n",
       "      <td>0</td>\n",
       "    </tr>\n",
       "  </tbody>\n",
       "</table>\n",
       "</div>"
      ],
      "text/plain": [
       "                      Missing Values\n",
       "class                              0\n",
       "cap-diameter                       0\n",
       "cap-shape                          0\n",
       "cap-surface                    14120\n",
       "cap-color                          0\n",
       "does-bruise-or-bleed               0\n",
       "gill-attachment                 9884\n",
       "gill-spacing                   25063\n",
       "gill-color                         0\n",
       "stem-height                        0\n",
       "stem-width                         0\n",
       "stem-root                      51538\n",
       "stem-surface                   38124\n",
       "stem-color                         0\n",
       "veil-type                      57892\n",
       "veil-color                     53656\n",
       "has-ring                           0\n",
       "ring-type                       2471\n",
       "spore-print-color              54715\n",
       "habitat                            0\n",
       "season                             0"
      ]
     },
     "execution_count": 8,
     "metadata": {},
     "output_type": "execute_result"
    }
   ],
   "source": [
    "#Check for missing values in dataset\n",
    "pd.DataFrame({'Missing Values': df.isna().sum()})"
   ]
  },
  {
   "cell_type": "markdown",
   "metadata": {},
   "source": [
    "The data had some NaN values. After I heard professor Kim's advise, she recommended to drop the columns if NaN has more than 10 %.  I will drop 8 features, which are cap-surface, gill-attachment, gill-spacing, stem-root, stem-surface, veil-type, veil-color, spore-print-color."
   ]
  },
  {
   "cell_type": "code",
   "execution_count": 9,
   "metadata": {},
   "outputs": [
    {
     "name": "stdout",
     "output_type": "stream",
     "text": [
      "(61069, 12)\n"
     ]
    },
    {
     "data": {
      "text/html": [
       "<div>\n",
       "<style scoped>\n",
       "    .dataframe tbody tr th:only-of-type {\n",
       "        vertical-align: middle;\n",
       "    }\n",
       "\n",
       "    .dataframe tbody tr th {\n",
       "        vertical-align: top;\n",
       "    }\n",
       "\n",
       "    .dataframe thead th {\n",
       "        text-align: right;\n",
       "    }\n",
       "</style>\n",
       "<table border=\"1\" class=\"dataframe\">\n",
       "  <thead>\n",
       "    <tr style=\"text-align: right;\">\n",
       "      <th></th>\n",
       "      <th>cap-diameter</th>\n",
       "      <th>cap-shape</th>\n",
       "      <th>cap-color</th>\n",
       "      <th>does-bruise-or-bleed</th>\n",
       "      <th>gill-color</th>\n",
       "      <th>stem-height</th>\n",
       "      <th>stem-width</th>\n",
       "      <th>stem-color</th>\n",
       "      <th>has-ring</th>\n",
       "      <th>ring-type</th>\n",
       "      <th>habitat</th>\n",
       "      <th>season</th>\n",
       "    </tr>\n",
       "  </thead>\n",
       "  <tbody>\n",
       "    <tr>\n",
       "      <th>0</th>\n",
       "      <td>15.26</td>\n",
       "      <td>x</td>\n",
       "      <td>o</td>\n",
       "      <td>f</td>\n",
       "      <td>w</td>\n",
       "      <td>16.95</td>\n",
       "      <td>17.09</td>\n",
       "      <td>w</td>\n",
       "      <td>t</td>\n",
       "      <td>g</td>\n",
       "      <td>d</td>\n",
       "      <td>w</td>\n",
       "    </tr>\n",
       "    <tr>\n",
       "      <th>1</th>\n",
       "      <td>16.60</td>\n",
       "      <td>x</td>\n",
       "      <td>o</td>\n",
       "      <td>f</td>\n",
       "      <td>w</td>\n",
       "      <td>17.99</td>\n",
       "      <td>18.19</td>\n",
       "      <td>w</td>\n",
       "      <td>t</td>\n",
       "      <td>g</td>\n",
       "      <td>d</td>\n",
       "      <td>u</td>\n",
       "    </tr>\n",
       "    <tr>\n",
       "      <th>2</th>\n",
       "      <td>14.07</td>\n",
       "      <td>x</td>\n",
       "      <td>o</td>\n",
       "      <td>f</td>\n",
       "      <td>w</td>\n",
       "      <td>17.80</td>\n",
       "      <td>17.74</td>\n",
       "      <td>w</td>\n",
       "      <td>t</td>\n",
       "      <td>g</td>\n",
       "      <td>d</td>\n",
       "      <td>w</td>\n",
       "    </tr>\n",
       "    <tr>\n",
       "      <th>3</th>\n",
       "      <td>14.17</td>\n",
       "      <td>f</td>\n",
       "      <td>e</td>\n",
       "      <td>f</td>\n",
       "      <td>w</td>\n",
       "      <td>15.77</td>\n",
       "      <td>15.98</td>\n",
       "      <td>w</td>\n",
       "      <td>t</td>\n",
       "      <td>p</td>\n",
       "      <td>d</td>\n",
       "      <td>w</td>\n",
       "    </tr>\n",
       "    <tr>\n",
       "      <th>4</th>\n",
       "      <td>14.64</td>\n",
       "      <td>x</td>\n",
       "      <td>o</td>\n",
       "      <td>f</td>\n",
       "      <td>w</td>\n",
       "      <td>16.53</td>\n",
       "      <td>17.20</td>\n",
       "      <td>w</td>\n",
       "      <td>t</td>\n",
       "      <td>p</td>\n",
       "      <td>d</td>\n",
       "      <td>w</td>\n",
       "    </tr>\n",
       "  </tbody>\n",
       "</table>\n",
       "</div>"
      ],
      "text/plain": [
       "   cap-diameter cap-shape cap-color does-bruise-or-bleed gill-color  \\\n",
       "0         15.26         x         o                    f          w   \n",
       "1         16.60         x         o                    f          w   \n",
       "2         14.07         x         o                    f          w   \n",
       "3         14.17         f         e                    f          w   \n",
       "4         14.64         x         o                    f          w   \n",
       "\n",
       "   stem-height  stem-width stem-color has-ring ring-type habitat season  \n",
       "0        16.95       17.09          w        t         g       d      w  \n",
       "1        17.99       18.19          w        t         g       d      u  \n",
       "2        17.80       17.74          w        t         g       d      w  \n",
       "3        15.77       15.98          w        t         p       d      w  \n",
       "4        16.53       17.20          w        t         p       d      w  "
      ]
     },
     "execution_count": 9,
     "metadata": {},
     "output_type": "execute_result"
    }
   ],
   "source": [
    "df_with_target = df.drop(['cap-surface', 'gill-attachment', 'gill-spacing', 'stem-root', 'stem-surface', \n",
    "                                  'veil-type', 'veil-color', 'spore-print-color'], axis=1)\n",
    "df = df.drop(['class', 'cap-surface', 'gill-attachment', 'gill-spacing', 'stem-root', 'stem-surface', \n",
    "                                  'veil-type', 'veil-color', 'spore-print-color'], axis=1)\n",
    "print(df.shape)\n",
    "df.head()"
   ]
  },
  {
   "cell_type": "markdown",
   "metadata": {},
   "source": [
    "As you may see, there are many categorical features, like mushroom cap color is brown, green. I will convert categorical variable into integers.\n"
   ]
  },
  {
   "cell_type": "code",
   "execution_count": 10,
   "metadata": {},
   "outputs": [],
   "source": [
    "# get all categorical columns in the dataframe\n",
    "catCols = [col for col in df.columns if df[col].dtype==\"O\"]\n",
    "\n",
    "from sklearn.preprocessing import LabelEncoder\n",
    "le = LabelEncoder()\n",
    "for item in catCols:\n",
    "    df[item] = le.fit_transform(df[item])"
   ]
  },
  {
   "cell_type": "code",
   "execution_count": 11,
   "metadata": {},
   "outputs": [],
   "source": [
    "# get all categorical columns in the dataframe\n",
    "catCols = [col for col in df_with_target.columns if df_with_target[col].dtype==\"O\"]\n",
    "\n",
    "from sklearn.preprocessing import LabelEncoder\n",
    "le = LabelEncoder()\n",
    "for item in catCols:\n",
    "    df_with_target[item] = le.fit_transform(df_with_target[item])"
   ]
  },
  {
   "cell_type": "code",
   "execution_count": 12,
   "metadata": {},
   "outputs": [
    {
     "name": "stdout",
     "output_type": "stream",
     "text": [
      "(61069, 12)\n"
     ]
    },
    {
     "data": {
      "text/html": [
       "<div>\n",
       "<style scoped>\n",
       "    .dataframe tbody tr th:only-of-type {\n",
       "        vertical-align: middle;\n",
       "    }\n",
       "\n",
       "    .dataframe tbody tr th {\n",
       "        vertical-align: top;\n",
       "    }\n",
       "\n",
       "    .dataframe thead th {\n",
       "        text-align: right;\n",
       "    }\n",
       "</style>\n",
       "<table border=\"1\" class=\"dataframe\">\n",
       "  <thead>\n",
       "    <tr style=\"text-align: right;\">\n",
       "      <th></th>\n",
       "      <th>cap-diameter</th>\n",
       "      <th>cap-shape</th>\n",
       "      <th>cap-color</th>\n",
       "      <th>does-bruise-or-bleed</th>\n",
       "      <th>gill-color</th>\n",
       "      <th>stem-height</th>\n",
       "      <th>stem-width</th>\n",
       "      <th>stem-color</th>\n",
       "      <th>has-ring</th>\n",
       "      <th>ring-type</th>\n",
       "      <th>habitat</th>\n",
       "      <th>season</th>\n",
       "    </tr>\n",
       "  </thead>\n",
       "  <tbody>\n",
       "    <tr>\n",
       "      <th>0</th>\n",
       "      <td>15.26</td>\n",
       "      <td>6</td>\n",
       "      <td>6</td>\n",
       "      <td>0</td>\n",
       "      <td>10</td>\n",
       "      <td>16.95</td>\n",
       "      <td>17.09</td>\n",
       "      <td>11</td>\n",
       "      <td>1</td>\n",
       "      <td>2</td>\n",
       "      <td>0</td>\n",
       "      <td>3</td>\n",
       "    </tr>\n",
       "    <tr>\n",
       "      <th>1</th>\n",
       "      <td>16.60</td>\n",
       "      <td>6</td>\n",
       "      <td>6</td>\n",
       "      <td>0</td>\n",
       "      <td>10</td>\n",
       "      <td>17.99</td>\n",
       "      <td>18.19</td>\n",
       "      <td>11</td>\n",
       "      <td>1</td>\n",
       "      <td>2</td>\n",
       "      <td>0</td>\n",
       "      <td>2</td>\n",
       "    </tr>\n",
       "    <tr>\n",
       "      <th>2</th>\n",
       "      <td>14.07</td>\n",
       "      <td>6</td>\n",
       "      <td>6</td>\n",
       "      <td>0</td>\n",
       "      <td>10</td>\n",
       "      <td>17.80</td>\n",
       "      <td>17.74</td>\n",
       "      <td>11</td>\n",
       "      <td>1</td>\n",
       "      <td>2</td>\n",
       "      <td>0</td>\n",
       "      <td>3</td>\n",
       "    </tr>\n",
       "    <tr>\n",
       "      <th>3</th>\n",
       "      <td>14.17</td>\n",
       "      <td>2</td>\n",
       "      <td>1</td>\n",
       "      <td>0</td>\n",
       "      <td>10</td>\n",
       "      <td>15.77</td>\n",
       "      <td>15.98</td>\n",
       "      <td>11</td>\n",
       "      <td>1</td>\n",
       "      <td>5</td>\n",
       "      <td>0</td>\n",
       "      <td>3</td>\n",
       "    </tr>\n",
       "    <tr>\n",
       "      <th>4</th>\n",
       "      <td>14.64</td>\n",
       "      <td>6</td>\n",
       "      <td>6</td>\n",
       "      <td>0</td>\n",
       "      <td>10</td>\n",
       "      <td>16.53</td>\n",
       "      <td>17.20</td>\n",
       "      <td>11</td>\n",
       "      <td>1</td>\n",
       "      <td>5</td>\n",
       "      <td>0</td>\n",
       "      <td>3</td>\n",
       "    </tr>\n",
       "  </tbody>\n",
       "</table>\n",
       "</div>"
      ],
      "text/plain": [
       "   cap-diameter  cap-shape  cap-color  does-bruise-or-bleed  gill-color  \\\n",
       "0         15.26          6          6                     0          10   \n",
       "1         16.60          6          6                     0          10   \n",
       "2         14.07          6          6                     0          10   \n",
       "3         14.17          2          1                     0          10   \n",
       "4         14.64          6          6                     0          10   \n",
       "\n",
       "   stem-height  stem-width  stem-color  has-ring  ring-type  habitat  season  \n",
       "0        16.95       17.09          11         1          2        0       3  \n",
       "1        17.99       18.19          11         1          2        0       2  \n",
       "2        17.80       17.74          11         1          2        0       3  \n",
       "3        15.77       15.98          11         1          5        0       3  \n",
       "4        16.53       17.20          11         1          5        0       3  "
      ]
     },
     "execution_count": 12,
     "metadata": {},
     "output_type": "execute_result"
    }
   ],
   "source": [
    "print(df.shape)\n",
    "df.head()"
   ]
  },
  {
   "cell_type": "code",
   "execution_count": 13,
   "metadata": {},
   "outputs": [
    {
     "data": {
      "text/html": [
       "<div>\n",
       "<style scoped>\n",
       "    .dataframe tbody tr th:only-of-type {\n",
       "        vertical-align: middle;\n",
       "    }\n",
       "\n",
       "    .dataframe tbody tr th {\n",
       "        vertical-align: top;\n",
       "    }\n",
       "\n",
       "    .dataframe thead th {\n",
       "        text-align: right;\n",
       "    }\n",
       "</style>\n",
       "<table border=\"1\" class=\"dataframe\">\n",
       "  <thead>\n",
       "    <tr style=\"text-align: right;\">\n",
       "      <th></th>\n",
       "      <th>cap-diameter</th>\n",
       "      <th>cap-shape</th>\n",
       "      <th>cap-color</th>\n",
       "      <th>does-bruise-or-bleed</th>\n",
       "      <th>gill-color</th>\n",
       "      <th>stem-height</th>\n",
       "      <th>stem-width</th>\n",
       "      <th>stem-color</th>\n",
       "      <th>has-ring</th>\n",
       "      <th>ring-type</th>\n",
       "      <th>habitat</th>\n",
       "      <th>season</th>\n",
       "    </tr>\n",
       "  </thead>\n",
       "  <tbody>\n",
       "    <tr>\n",
       "      <th>count</th>\n",
       "      <td>61069.000000</td>\n",
       "      <td>61069.000000</td>\n",
       "      <td>61069.000000</td>\n",
       "      <td>61069.000000</td>\n",
       "      <td>61069.000000</td>\n",
       "      <td>61069.000000</td>\n",
       "      <td>61069.000000</td>\n",
       "      <td>61069.000000</td>\n",
       "      <td>61069.000000</td>\n",
       "      <td>61069.000000</td>\n",
       "      <td>61069.000000</td>\n",
       "      <td>61069.000000</td>\n",
       "    </tr>\n",
       "    <tr>\n",
       "      <th>mean</th>\n",
       "      <td>6.733854</td>\n",
       "      <td>4.041641</td>\n",
       "      <td>6.144541</td>\n",
       "      <td>0.173410</td>\n",
       "      <td>7.338502</td>\n",
       "      <td>6.581538</td>\n",
       "      <td>12.149410</td>\n",
       "      <td>8.429072</td>\n",
       "      <td>0.248555</td>\n",
       "      <td>1.733236</td>\n",
       "      <td>0.623721</td>\n",
       "      <td>1.053300</td>\n",
       "    </tr>\n",
       "    <tr>\n",
       "      <th>std</th>\n",
       "      <td>5.264845</td>\n",
       "      <td>2.138630</td>\n",
       "      <td>3.171077</td>\n",
       "      <td>0.378605</td>\n",
       "      <td>3.186426</td>\n",
       "      <td>3.370017</td>\n",
       "      <td>10.035955</td>\n",
       "      <td>3.218516</td>\n",
       "      <td>0.432179</td>\n",
       "      <td>1.950244</td>\n",
       "      <td>1.265880</td>\n",
       "      <td>1.100575</td>\n",
       "    </tr>\n",
       "    <tr>\n",
       "      <th>min</th>\n",
       "      <td>0.380000</td>\n",
       "      <td>0.000000</td>\n",
       "      <td>0.000000</td>\n",
       "      <td>0.000000</td>\n",
       "      <td>0.000000</td>\n",
       "      <td>0.000000</td>\n",
       "      <td>0.000000</td>\n",
       "      <td>0.000000</td>\n",
       "      <td>0.000000</td>\n",
       "      <td>0.000000</td>\n",
       "      <td>0.000000</td>\n",
       "      <td>0.000000</td>\n",
       "    </tr>\n",
       "    <tr>\n",
       "      <th>25%</th>\n",
       "      <td>3.480000</td>\n",
       "      <td>2.000000</td>\n",
       "      <td>5.000000</td>\n",
       "      <td>0.000000</td>\n",
       "      <td>5.000000</td>\n",
       "      <td>4.640000</td>\n",
       "      <td>5.210000</td>\n",
       "      <td>6.000000</td>\n",
       "      <td>0.000000</td>\n",
       "      <td>1.000000</td>\n",
       "      <td>0.000000</td>\n",
       "      <td>0.000000</td>\n",
       "    </tr>\n",
       "    <tr>\n",
       "      <th>50%</th>\n",
       "      <td>5.860000</td>\n",
       "      <td>5.000000</td>\n",
       "      <td>5.000000</td>\n",
       "      <td>0.000000</td>\n",
       "      <td>7.000000</td>\n",
       "      <td>5.950000</td>\n",
       "      <td>10.190000</td>\n",
       "      <td>11.000000</td>\n",
       "      <td>0.000000</td>\n",
       "      <td>1.000000</td>\n",
       "      <td>0.000000</td>\n",
       "      <td>1.000000</td>\n",
       "    </tr>\n",
       "    <tr>\n",
       "      <th>75%</th>\n",
       "      <td>8.540000</td>\n",
       "      <td>6.000000</td>\n",
       "      <td>10.000000</td>\n",
       "      <td>0.000000</td>\n",
       "      <td>10.000000</td>\n",
       "      <td>7.740000</td>\n",
       "      <td>16.570000</td>\n",
       "      <td>11.000000</td>\n",
       "      <td>0.000000</td>\n",
       "      <td>1.000000</td>\n",
       "      <td>1.000000</td>\n",
       "      <td>2.000000</td>\n",
       "    </tr>\n",
       "    <tr>\n",
       "      <th>max</th>\n",
       "      <td>62.340000</td>\n",
       "      <td>6.000000</td>\n",
       "      <td>11.000000</td>\n",
       "      <td>1.000000</td>\n",
       "      <td>11.000000</td>\n",
       "      <td>33.920000</td>\n",
       "      <td>103.910000</td>\n",
       "      <td>12.000000</td>\n",
       "      <td>1.000000</td>\n",
       "      <td>8.000000</td>\n",
       "      <td>7.000000</td>\n",
       "      <td>3.000000</td>\n",
       "    </tr>\n",
       "  </tbody>\n",
       "</table>\n",
       "</div>"
      ],
      "text/plain": [
       "       cap-diameter     cap-shape     cap-color  does-bruise-or-bleed  \\\n",
       "count  61069.000000  61069.000000  61069.000000          61069.000000   \n",
       "mean       6.733854      4.041641      6.144541              0.173410   \n",
       "std        5.264845      2.138630      3.171077              0.378605   \n",
       "min        0.380000      0.000000      0.000000              0.000000   \n",
       "25%        3.480000      2.000000      5.000000              0.000000   \n",
       "50%        5.860000      5.000000      5.000000              0.000000   \n",
       "75%        8.540000      6.000000     10.000000              0.000000   \n",
       "max       62.340000      6.000000     11.000000              1.000000   \n",
       "\n",
       "         gill-color   stem-height    stem-width    stem-color      has-ring  \\\n",
       "count  61069.000000  61069.000000  61069.000000  61069.000000  61069.000000   \n",
       "mean       7.338502      6.581538     12.149410      8.429072      0.248555   \n",
       "std        3.186426      3.370017     10.035955      3.218516      0.432179   \n",
       "min        0.000000      0.000000      0.000000      0.000000      0.000000   \n",
       "25%        5.000000      4.640000      5.210000      6.000000      0.000000   \n",
       "50%        7.000000      5.950000     10.190000     11.000000      0.000000   \n",
       "75%       10.000000      7.740000     16.570000     11.000000      0.000000   \n",
       "max       11.000000     33.920000    103.910000     12.000000      1.000000   \n",
       "\n",
       "          ring-type       habitat        season  \n",
       "count  61069.000000  61069.000000  61069.000000  \n",
       "mean       1.733236      0.623721      1.053300  \n",
       "std        1.950244      1.265880      1.100575  \n",
       "min        0.000000      0.000000      0.000000  \n",
       "25%        1.000000      0.000000      0.000000  \n",
       "50%        1.000000      0.000000      1.000000  \n",
       "75%        1.000000      1.000000      2.000000  \n",
       "max        8.000000      7.000000      3.000000  "
      ]
     },
     "execution_count": 13,
     "metadata": {},
     "output_type": "execute_result"
    }
   ],
   "source": [
    "#Check for summary statistics\n",
    "df.describe()"
   ]
  },
  {
   "cell_type": "markdown",
   "metadata": {},
   "source": [
    "Distribution plot to see if there are some features that have too wide or too narrow distributions. After looking at the distribution of the box plot below, we can see none of the features is needed to be eliminated based on distribution."
   ]
  },
  {
   "cell_type": "code",
   "execution_count": 14,
   "metadata": {},
   "outputs": [
    {
     "data": {
      "image/png": "[encoded data removed]",
      "text/plain": [
       "<Figure size 1008x432 with 1 Axes>"
      ]
     },
     "metadata": {
      "needs_background": "light"
     },
     "output_type": "display_data"
    }
   ],
   "source": [
    "# box plot to see how each feature is distributed\n",
    "cap_diameter = df[\"cap-diameter\"]\n",
    "cap_shape = df[\"cap-shape\"]\n",
    "cap_color = df[\"cap-color\"]\n",
    "does_bruise = df[\"does-bruise-or-bleed\"]\n",
    "gill_color = df[\"gill-color\"]\n",
    "stem_height = df[\"stem-height\"]\n",
    "stem_width = df[\"stem-width\"]\n",
    "stem_color = df[\"stem-color\"]\n",
    "has_ring = df[\"has-ring\"]\n",
    "ring_type = df[\"ring-type\"]\n",
    "habitat = df[\"habitat\"]\n",
    "season = df[\"season\"]\n",
    "\n",
    "columns = [cap_diameter, cap_shape, cap_color, does_bruise, gill_color, stem_height, stem_width, stem_color,\n",
    "has_ring, ring_type, habitat, season]\n",
    "\n",
    "\n",
    "fig, ax = plt.subplots(figsize=(14, 6))\n",
    "ax.boxplot(columns)\n",
    "plt.xticks([1, 2, 3, 4, 5, 6, 7, 8, 9, 10, 11, 12], \n",
    "           [\"cap_diameter\", \"cap_shape\", \"cap_color\", \"does_bruise\", \"gill_color\", \"stem_height\", \"stem_width\",\n",
    "            \"stem_color\", \"has_ring\", \"ring_type\", \"habitat\", \"season\"], rotation=10)\n",
    "plt.show()"
   ]
  },
  {
   "cell_type": "markdown",
   "metadata": {},
   "source": [
    "I did a bar plot for the target to check if the number of poisonous and edible mushrooms is about equal.  I want to avoid an unbalanced dataset because I want to be fair to have enough of both targets. As shown in the bar plot below, the poison and edible mushroom counting are about equal."
   ]
  },
  {
   "cell_type": "code",
   "execution_count": 15,
   "metadata": {},
   "outputs": [
    {
     "data": {
      "text/plain": [
       "(array([1., 0., 0., 0., 0., 0., 0., 0., 0., 1.]),\n",
       " array([0. , 0.1, 0.2, 0.3, 0.4, 0.5, 0.6, 0.7, 0.8, 0.9, 1. ]),\n",
       " <BarContainer object of 10 artists>)"
      ]
     },
     "execution_count": 15,
     "metadata": {},
     "output_type": "execute_result"
    },
    {
     "data": {
      "image/png": "[encoded data removed]",
      "text/plain": [
       "<Figure size 432x432 with 1 Axes>"
      ]
     },
     "metadata": {
      "needs_background": "light"
     },
     "output_type": "display_data"
    }
   ],
   "source": [
    "# Bar plot for target (Poisen or Edible) \n",
    "# Let's see how many target is. It shows that the categories are reasonably balanced.\n",
    "target['class'].unique()\n",
    "target_labels = ['Poison', 'Edible']\n",
    "plt.figure(figsize=(6,6)) \n",
    "plt.hist(target_labels, color = \"brown\", lw=0, rwidth=1)"
   ]
  },
  {
   "cell_type": "markdown",
   "metadata": {},
   "source": [
    "To do the EDA, we will examine the correlation plot. There are no high correlations, so no features are needed to remove."
   ]
  },
  {
   "cell_type": "code",
   "execution_count": 16,
   "metadata": {},
   "outputs": [
    {
     "data": {
      "image/png": "[encoded data removed]",
      "text/plain": [
       "<Figure size 1080x936 with 2 Axes>"
      ]
     },
     "metadata": {},
     "output_type": "display_data"
    }
   ],
   "source": [
    "corrMatrix = df.corr()\n",
    "\n",
    "corr = np.corrcoef(np.random.randn(10, 200))\n",
    "mask = np.zeros_like(corrMatrix)\n",
    "mask[np.triu_indices_from(mask)] = True\n",
    "with sns.axes_style(\"white\"):\n",
    "    f, ax = plt.subplots(figsize=(15,13))\n",
    "    ax = sns.heatmap(corrMatrix, mask=mask, vmax=1, vmin=-1,annot=True, center=0, \n",
    "                     square=True, cmap=sns.diverging_palette(230, 22, s=100, as_cmap=True), annot_kws={\"fontsize\":10})"
   ]
  },
  {
   "cell_type": "code",
   "execution_count": 17,
   "metadata": {},
   "outputs": [
    {
     "data": {
      "text/html": [
       "<div>\n",
       "<style scoped>\n",
       "    .dataframe tbody tr th:only-of-type {\n",
       "        vertical-align: middle;\n",
       "    }\n",
       "\n",
       "    .dataframe tbody tr th {\n",
       "        vertical-align: top;\n",
       "    }\n",
       "\n",
       "    .dataframe thead th {\n",
       "        text-align: right;\n",
       "    }\n",
       "</style>\n",
       "<table border=\"1\" class=\"dataframe\">\n",
       "  <thead>\n",
       "    <tr style=\"text-align: right;\">\n",
       "      <th></th>\n",
       "      <th>cap-diameter</th>\n",
       "      <th>cap-shape</th>\n",
       "      <th>cap-color</th>\n",
       "      <th>does-bruise-or-bleed</th>\n",
       "      <th>gill-color</th>\n",
       "      <th>stem-height</th>\n",
       "      <th>stem-width</th>\n",
       "      <th>stem-color</th>\n",
       "      <th>has-ring</th>\n",
       "      <th>ring-type</th>\n",
       "      <th>habitat</th>\n",
       "      <th>season</th>\n",
       "    </tr>\n",
       "  </thead>\n",
       "  <tbody>\n",
       "    <tr>\n",
       "      <th>cap-diameter</th>\n",
       "      <td>1.000000</td>\n",
       "      <td>0.103923</td>\n",
       "      <td>0.042108</td>\n",
       "      <td>0.179440</td>\n",
       "      <td>0.221675</td>\n",
       "      <td>0.422560</td>\n",
       "      <td>0.695330</td>\n",
       "      <td>0.008670</td>\n",
       "      <td>0.077024</td>\n",
       "      <td>0.060747</td>\n",
       "      <td>-0.125820</td>\n",
       "      <td>0.037305</td>\n",
       "    </tr>\n",
       "    <tr>\n",
       "      <th>cap-shape</th>\n",
       "      <td>0.103923</td>\n",
       "      <td>1.000000</td>\n",
       "      <td>0.016312</td>\n",
       "      <td>0.191804</td>\n",
       "      <td>0.115703</td>\n",
       "      <td>0.034473</td>\n",
       "      <td>0.157440</td>\n",
       "      <td>0.009061</td>\n",
       "      <td>0.036017</td>\n",
       "      <td>0.136084</td>\n",
       "      <td>-0.124754</td>\n",
       "      <td>-0.027178</td>\n",
       "    </tr>\n",
       "    <tr>\n",
       "      <th>cap-color</th>\n",
       "      <td>0.042108</td>\n",
       "      <td>0.016312</td>\n",
       "      <td>1.000000</td>\n",
       "      <td>0.010657</td>\n",
       "      <td>0.136560</td>\n",
       "      <td>-0.010732</td>\n",
       "      <td>0.000573</td>\n",
       "      <td>0.265525</td>\n",
       "      <td>0.070843</td>\n",
       "      <td>0.018092</td>\n",
       "      <td>0.031706</td>\n",
       "      <td>0.008443</td>\n",
       "    </tr>\n",
       "    <tr>\n",
       "      <th>does-bruise-or-bleed</th>\n",
       "      <td>0.179440</td>\n",
       "      <td>0.191804</td>\n",
       "      <td>0.010657</td>\n",
       "      <td>1.000000</td>\n",
       "      <td>0.018613</td>\n",
       "      <td>0.076596</td>\n",
       "      <td>0.183514</td>\n",
       "      <td>-0.024913</td>\n",
       "      <td>0.019195</td>\n",
       "      <td>-0.011199</td>\n",
       "      <td>-0.102747</td>\n",
       "      <td>-0.051146</td>\n",
       "    </tr>\n",
       "    <tr>\n",
       "      <th>gill-color</th>\n",
       "      <td>0.221675</td>\n",
       "      <td>0.115703</td>\n",
       "      <td>0.136560</td>\n",
       "      <td>0.018613</td>\n",
       "      <td>1.000000</td>\n",
       "      <td>0.157327</td>\n",
       "      <td>0.113915</td>\n",
       "      <td>0.149863</td>\n",
       "      <td>-0.055640</td>\n",
       "      <td>0.043267</td>\n",
       "      <td>-0.075768</td>\n",
       "      <td>-0.011360</td>\n",
       "    </tr>\n",
       "    <tr>\n",
       "      <th>stem-height</th>\n",
       "      <td>0.422560</td>\n",
       "      <td>0.034473</td>\n",
       "      <td>-0.010732</td>\n",
       "      <td>0.076596</td>\n",
       "      <td>0.157327</td>\n",
       "      <td>1.000000</td>\n",
       "      <td>0.436117</td>\n",
       "      <td>0.138458</td>\n",
       "      <td>0.281049</td>\n",
       "      <td>0.234375</td>\n",
       "      <td>-0.020664</td>\n",
       "      <td>-0.020630</td>\n",
       "    </tr>\n",
       "    <tr>\n",
       "      <th>stem-width</th>\n",
       "      <td>0.695330</td>\n",
       "      <td>0.157440</td>\n",
       "      <td>0.000573</td>\n",
       "      <td>0.183514</td>\n",
       "      <td>0.113915</td>\n",
       "      <td>0.436117</td>\n",
       "      <td>1.000000</td>\n",
       "      <td>0.058146</td>\n",
       "      <td>-0.000981</td>\n",
       "      <td>-0.017722</td>\n",
       "      <td>-0.109960</td>\n",
       "      <td>0.014161</td>\n",
       "    </tr>\n",
       "    <tr>\n",
       "      <th>stem-color</th>\n",
       "      <td>0.008670</td>\n",
       "      <td>0.009061</td>\n",
       "      <td>0.265525</td>\n",
       "      <td>-0.024913</td>\n",
       "      <td>0.149863</td>\n",
       "      <td>0.138458</td>\n",
       "      <td>0.058146</td>\n",
       "      <td>1.000000</td>\n",
       "      <td>0.147946</td>\n",
       "      <td>0.091160</td>\n",
       "      <td>0.039917</td>\n",
       "      <td>-0.025461</td>\n",
       "    </tr>\n",
       "    <tr>\n",
       "      <th>has-ring</th>\n",
       "      <td>0.077024</td>\n",
       "      <td>0.036017</td>\n",
       "      <td>0.070843</td>\n",
       "      <td>0.019195</td>\n",
       "      <td>-0.055640</td>\n",
       "      <td>0.281049</td>\n",
       "      <td>-0.000981</td>\n",
       "      <td>0.147946</td>\n",
       "      <td>1.000000</td>\n",
       "      <td>0.653726</td>\n",
       "      <td>0.103071</td>\n",
       "      <td>0.038764</td>\n",
       "    </tr>\n",
       "    <tr>\n",
       "      <th>ring-type</th>\n",
       "      <td>0.060747</td>\n",
       "      <td>0.136084</td>\n",
       "      <td>0.018092</td>\n",
       "      <td>-0.011199</td>\n",
       "      <td>0.043267</td>\n",
       "      <td>0.234375</td>\n",
       "      <td>-0.017722</td>\n",
       "      <td>0.091160</td>\n",
       "      <td>0.653726</td>\n",
       "      <td>1.000000</td>\n",
       "      <td>-0.039439</td>\n",
       "      <td>0.030069</td>\n",
       "    </tr>\n",
       "    <tr>\n",
       "      <th>habitat</th>\n",
       "      <td>-0.125820</td>\n",
       "      <td>-0.124754</td>\n",
       "      <td>0.031706</td>\n",
       "      <td>-0.102747</td>\n",
       "      <td>-0.075768</td>\n",
       "      <td>-0.020664</td>\n",
       "      <td>-0.109960</td>\n",
       "      <td>0.039917</td>\n",
       "      <td>0.103071</td>\n",
       "      <td>-0.039439</td>\n",
       "      <td>1.000000</td>\n",
       "      <td>0.004440</td>\n",
       "    </tr>\n",
       "    <tr>\n",
       "      <th>season</th>\n",
       "      <td>0.037305</td>\n",
       "      <td>-0.027178</td>\n",
       "      <td>0.008443</td>\n",
       "      <td>-0.051146</td>\n",
       "      <td>-0.011360</td>\n",
       "      <td>-0.020630</td>\n",
       "      <td>0.014161</td>\n",
       "      <td>-0.025461</td>\n",
       "      <td>0.038764</td>\n",
       "      <td>0.030069</td>\n",
       "      <td>0.004440</td>\n",
       "      <td>1.000000</td>\n",
       "    </tr>\n",
       "  </tbody>\n",
       "</table>\n",
       "</div>"
      ],
      "text/plain": [
       "                      cap-diameter  cap-shape  cap-color  \\\n",
       "cap-diameter              1.000000   0.103923   0.042108   \n",
       "cap-shape                 0.103923   1.000000   0.016312   \n",
       "cap-color                 0.042108   0.016312   1.000000   \n",
       "does-bruise-or-bleed      0.179440   0.191804   0.010657   \n",
       "gill-color                0.221675   0.115703   0.136560   \n",
       "stem-height               0.422560   0.034473  -0.010732   \n",
       "stem-width                0.695330   0.157440   0.000573   \n",
       "stem-color                0.008670   0.009061   0.265525   \n",
       "has-ring                  0.077024   0.036017   0.070843   \n",
       "ring-type                 0.060747   0.136084   0.018092   \n",
       "habitat                  -0.125820  -0.124754   0.031706   \n",
       "season                    0.037305  -0.027178   0.008443   \n",
       "\n",
       "                      does-bruise-or-bleed  gill-color  stem-height  \\\n",
       "cap-diameter                      0.179440    0.221675     0.422560   \n",
       "cap-shape                         0.191804    0.115703     0.034473   \n",
       "cap-color                         0.010657    0.136560    -0.010732   \n",
       "does-bruise-or-bleed              1.000000    0.018613     0.076596   \n",
       "gill-color                        0.018613    1.000000     0.157327   \n",
       "stem-height                       0.076596    0.157327     1.000000   \n",
       "stem-width                        0.183514    0.113915     0.436117   \n",
       "stem-color                       -0.024913    0.149863     0.138458   \n",
       "has-ring                          0.019195   -0.055640     0.281049   \n",
       "ring-type                        -0.011199    0.043267     0.234375   \n",
       "habitat                          -0.102747   -0.075768    -0.020664   \n",
       "season                           -0.051146   -0.011360    -0.020630   \n",
       "\n",
       "                      stem-width  stem-color  has-ring  ring-type   habitat  \\\n",
       "cap-diameter            0.695330    0.008670  0.077024   0.060747 -0.125820   \n",
       "cap-shape               0.157440    0.009061  0.036017   0.136084 -0.124754   \n",
       "cap-color               0.000573    0.265525  0.070843   0.018092  0.031706   \n",
       "does-bruise-or-bleed    0.183514   -0.024913  0.019195  -0.011199 -0.102747   \n",
       "gill-color              0.113915    0.149863 -0.055640   0.043267 -0.075768   \n",
       "stem-height             0.436117    0.138458  0.281049   0.234375 -0.020664   \n",
       "stem-width              1.000000    0.058146 -0.000981  -0.017722 -0.109960   \n",
       "stem-color              0.058146    1.000000  0.147946   0.091160  0.039917   \n",
       "has-ring               -0.000981    0.147946  1.000000   0.653726  0.103071   \n",
       "ring-type              -0.017722    0.091160  0.653726   1.000000 -0.039439   \n",
       "habitat                -0.109960    0.039917  0.103071  -0.039439  1.000000   \n",
       "season                  0.014161   -0.025461  0.038764   0.030069  0.004440   \n",
       "\n",
       "                        season  \n",
       "cap-diameter          0.037305  \n",
       "cap-shape            -0.027178  \n",
       "cap-color             0.008443  \n",
       "does-bruise-or-bleed -0.051146  \n",
       "gill-color           -0.011360  \n",
       "stem-height          -0.020630  \n",
       "stem-width            0.014161  \n",
       "stem-color           -0.025461  \n",
       "has-ring              0.038764  \n",
       "ring-type             0.030069  \n",
       "habitat               0.004440  \n",
       "season                1.000000  "
      ]
     },
     "execution_count": 17,
     "metadata": {},
     "output_type": "execute_result"
    }
   ],
   "source": [
    "df.corr()"
   ]
  },
  {
   "cell_type": "markdown",
   "metadata": {},
   "source": [
    "## <font color='#A52A2A'>4. Model building</font>"
   ]
  },
  {
   "cell_type": "markdown",
   "metadata": {},
   "source": [
    "As far as I can tell in the defining project idea in the project 2 guide, it is ok to use data with labels in the unsupervised tasks. so I will use a mix of PCA/clustering and Random Forest classification to see how accurate the training data is. The aim is to see whether the given features accurately predict the target variable (poison or edible).\n",
    "\n",
    "Since my dataset has 60000 samples, the large size may be a key for how to split test/train data. "
   ]
  },
  {
   "cell_type": "markdown",
   "metadata": {},
   "source": [
    "### <font color='#A52A2A'>RF - Random Forest</font>"
   ]
  },
  {
   "cell_type": "markdown",
   "metadata": {},
   "source": [
    "We will use the Random Forest model to explore the train/test accuracy ratio and to find out whether the dataset is well balanced.\n",
    "\n",
    "In the trials below, I explored split 90/10% (train/test), 80/20%, 70/30%, and 60/40%. In all four cases, the accuracy was more than 99%."
   ]
  },
  {
   "cell_type": "code",
   "execution_count": 18,
   "metadata": {},
   "outputs": [
    {
     "name": "stderr",
     "output_type": "stream",
     "text": [
      "<ipython-input-18-b3b75969309e>:11: DataConversionWarning: A column-vector y was passed when a 1d array was expected. Please change the shape of y to (n_samples,), for example using ravel().\n",
      "  clr_rf = clf_rf.fit(x_train,y_train)\n"
     ]
    },
    {
     "name": "stdout",
     "output_type": "stream",
     "text": [
      "Accuracy is:  0.9968888161126576\n"
     ]
    },
    {
     "data": {
      "text/plain": [
       "<AxesSubplot:>"
      ]
     },
     "execution_count": 18,
     "metadata": {},
     "output_type": "execute_result"
    },
    {
     "data": {
      "image/png": "[encoded data removed]",
      "text/plain": [
       "<Figure size 432x288 with 2 Axes>"
      ]
     },
     "metadata": {
      "needs_background": "light"
     },
     "output_type": "display_data"
    }
   ],
   "source": [
    "from sklearn.model_selection import train_test_split\n",
    "from sklearn.ensemble import RandomForestClassifier\n",
    "from sklearn.metrics import f1_score,confusion_matrix\n",
    "from sklearn.metrics import accuracy_score\n",
    "\n",
    "# split data train 90 % and test 10 %\n",
    "x_train, x_test, y_train, y_test = train_test_split(df, target, test_size=0.1, random_state=40)\n",
    "\n",
    "#random forest classifier with n_estimators=10 (default)\n",
    "clf_rf = RandomForestClassifier(random_state=40)      \n",
    "clr_rf = clf_rf.fit(x_train,y_train)\n",
    "\n",
    "ac = accuracy_score(y_test,clf_rf.predict(x_test))\n",
    "print('Accuracy is: ',ac)\n",
    "cm = confusion_matrix(y_test,clf_rf.predict(x_test))\n",
    "sns.heatmap(cm,annot=True,fmt=\"d\")"
   ]
  },
  {
   "cell_type": "code",
   "execution_count": 19,
   "metadata": {},
   "outputs": [
    {
     "name": "stderr",
     "output_type": "stream",
     "text": [
      "<ipython-input-19-2f01ab08c8df>:6: DataConversionWarning: A column-vector y was passed when a 1d array was expected. Please change the shape of y to (n_samples,), for example using ravel().\n",
      "  clr_rf = clf_rf.fit(x_train,y_train)\n"
     ]
    },
    {
     "name": "stdout",
     "output_type": "stream",
     "text": [
      "Accuracy is:  0.9957425904699525\n"
     ]
    },
    {
     "data": {
      "text/plain": [
       "<AxesSubplot:>"
      ]
     },
     "execution_count": 19,
     "metadata": {},
     "output_type": "execute_result"
    },
    {
     "data": {
      "image/png": "[encoded data removed]",
      "text/plain": [
       "<Figure size 432x288 with 2 Axes>"
      ]
     },
     "metadata": {
      "needs_background": "light"
     },
     "output_type": "display_data"
    }
   ],
   "source": [
    "# split data train 80 % and test 20 %\n",
    "x_train, x_test, y_train, y_test = train_test_split(df, target, test_size=0.2, random_state=40)\n",
    "\n",
    "#random forest classifier with n_estimators=10 (default)\n",
    "clf_rf = RandomForestClassifier(random_state=40)      \n",
    "clr_rf = clf_rf.fit(x_train,y_train)\n",
    "\n",
    "ac = accuracy_score(y_test,clf_rf.predict(x_test))\n",
    "print('Accuracy is: ',ac)\n",
    "cm = confusion_matrix(y_test,clf_rf.predict(x_test))\n",
    "sns.heatmap(cm,annot=True,fmt=\"d\")"
   ]
  },
  {
   "cell_type": "code",
   "execution_count": 20,
   "metadata": {},
   "outputs": [
    {
     "name": "stderr",
     "output_type": "stream",
     "text": [
      "<ipython-input-20-4595a5a0d24b>:6: DataConversionWarning: A column-vector y was passed when a 1d array was expected. Please change the shape of y to (n_samples,), for example using ravel().\n",
      "  clr_rf = clf_rf.fit(x_train,y_train)\n"
     ]
    },
    {
     "name": "stdout",
     "output_type": "stream",
     "text": [
      "Accuracy is:  0.9956880082964904\n"
     ]
    },
    {
     "data": {
      "text/plain": [
       "<AxesSubplot:>"
      ]
     },
     "execution_count": 20,
     "metadata": {},
     "output_type": "execute_result"
    },
    {
     "data": {
      "image/png": "[encoded data removed]",
      "text/plain": [
       "<Figure size 432x288 with 2 Axes>"
      ]
     },
     "metadata": {
      "needs_background": "light"
     },
     "output_type": "display_data"
    }
   ],
   "source": [
    "# split data train 70 % and test 30 %\n",
    "x_train, x_test, y_train, y_test = train_test_split(df, target, test_size=0.3, random_state=40)\n",
    "\n",
    "#random forest classifier with n_estimators=10 (default)\n",
    "clf_rf = RandomForestClassifier(random_state=40)      \n",
    "clr_rf = clf_rf.fit(x_train,y_train)\n",
    "\n",
    "ac = accuracy_score(y_test,clf_rf.predict(x_test))\n",
    "print('Accuracy is: ',ac)\n",
    "cm = confusion_matrix(y_test,clf_rf.predict(x_test))\n",
    "sns.heatmap(cm,annot=True,fmt=\"d\")"
   ]
  },
  {
   "cell_type": "code",
   "execution_count": 21,
   "metadata": {},
   "outputs": [
    {
     "name": "stderr",
     "output_type": "stream",
     "text": [
      "<ipython-input-21-181a91b1fb30>:6: DataConversionWarning: A column-vector y was passed when a 1d array was expected. Please change the shape of y to (n_samples,), for example using ravel().\n",
      "  clr_rf = clf_rf.fit(x_train,y_train)\n"
     ]
    },
    {
     "name": "stdout",
     "output_type": "stream",
     "text": [
      "Accuracy is:  0.9958654003602423\n"
     ]
    },
    {
     "data": {
      "text/plain": [
       "<AxesSubplot:>"
      ]
     },
     "execution_count": 21,
     "metadata": {},
     "output_type": "execute_result"
    },
    {
     "data": {
      "image/png": "[encoded data removed]",
      "text/plain": [
       "<Figure size 432x288 with 2 Axes>"
      ]
     },
     "metadata": {
      "needs_background": "light"
     },
     "output_type": "display_data"
    }
   ],
   "source": [
    "# split data train 60 % and test 40 %\n",
    "x_train, x_test, y_train, y_test = train_test_split(df, target, test_size=0.4, random_state=40)\n",
    "\n",
    "#random forest classifier with n_estimators=10 (default)\n",
    "clf_rf = RandomForestClassifier(random_state=40)      \n",
    "clr_rf = clf_rf.fit(x_train,y_train)\n",
    "\n",
    "ac = accuracy_score(y_test,clf_rf.predict(x_test))\n",
    "print('Accuracy is: ',ac)\n",
    "cm = confusion_matrix(y_test,clf_rf.predict(x_test))\n",
    "sns.heatmap(cm,annot=True,fmt=\"d\")"
   ]
  },
  {
   "cell_type": "markdown",
   "metadata": {},
   "source": [
    "## <font color='#A52A2A'>5. Model training</font>"
   ]
  },
  {
   "cell_type": "markdown",
   "metadata": {},
   "source": [
    "As far as I checked by the random forest method, all attempts were high accuracy, and well balanced. But I will use 90%/10% since the accuracy rate was the highest.  To tune the PCA model, first I did a linear transform that transforms the data into a new coordinate system. Then I standardized to eliminate the bias of the initial variables. Last, I checked the best number of components. On the graph below we can see that the area around 2 components was flat, which is indicated the best number of components. "
   ]
  },
  {
   "cell_type": "markdown",
   "metadata": {},
   "source": [
    "### <font color='#A52A2A'>5.1 PCA - Principle Component Analysis</font>"
   ]
  },
  {
   "cell_type": "code",
   "execution_count": 30,
   "metadata": {},
   "outputs": [],
   "source": [
    "# Let's treat p = 0, e = 1\n",
    "target_p = target.replace('p', 0)\n",
    "target_p = target_p0.replace('e', 1)"
   ]
  },
  {
   "cell_type": "markdown",
   "metadata": {},
   "source": [
    "Use the train spit 90% and 10%"
   ]
  },
  {
   "cell_type": "code",
   "execution_count": 31,
   "metadata": {},
   "outputs": [
    {
     "name": "stdout",
     "output_type": "stream",
     "text": [
      "PCA Accuracy: 0.61094\n"
     ]
    }
   ],
   "source": [
    "from sklearn.tree import DecisionTreeClassifier\n",
    "from sklearn.model_selection import train_test_split\n",
    "from sklearn.metrics import accuracy_score, roc_auc_score\n",
    "# split data train 90 % and test 10 %\n",
    "x_train, x_test, y_train, y_test = train_test_split(df, target_p, test_size=0.1, random_state=40)\n",
    "# Decision trees with depth = 2\n",
    "clf = DecisionTreeClassifier(max_depth=2, random_state=42)\n",
    "clf.fit(x_train, y_train)\n",
    "preds = clf.predict_proba(x_test)\n",
    "print('PCA Accuracy: {:.5f}'.format(accuracy_score(y_test, \n",
    "                                                preds.argmax(axis=1))))"
   ]
  },
  {
   "cell_type": "code",
   "execution_count": 26,
   "metadata": {},
   "outputs": [
    {
     "name": "stdout",
     "output_type": "stream",
     "text": [
      "Principle components:  [[ 3.81353141e-01  3.14982882e-02  3.53726957e-03  6.66283403e-03\n",
      "   4.64432595e-02  1.52381883e-01  9.09713842e-01  1.91062726e-02\n",
      "   1.07207711e-03  1.74309502e-03 -1.38528732e-02  1.76211730e-03]\n",
      " [ 4.83875719e-01  1.93963345e-02  4.21456153e-01  4.99145775e-04\n",
      "   5.02130340e-01  2.73113401e-01 -2.85443077e-01  4.08132656e-01\n",
      "   2.32401463e-02  1.11851621e-01 -5.98445125e-03  7.31063386e-05]\n",
      " [ 6.38017193e-01 -2.20515210e-02 -4.17223536e-01  4.75325695e-03\n",
      "   1.71051275e-02  6.86499128e-02 -2.65711092e-01 -5.84160219e-01\n",
      "  -8.09215824e-04  2.34615394e-02 -2.85322556e-02  1.15580695e-02]\n",
      " [-2.22308844e-01 -3.16619960e-02 -5.01101651e-01 -5.47890807e-03\n",
      "  -3.91742061e-02  7.73909793e-01 -3.62957125e-02  2.29440295e-01\n",
      "   4.26774049e-02  2.03889900e-01  1.90495640e-02 -1.60268644e-02]\n",
      " [ 3.02264600e-01 -1.53517898e-01  3.11351103e-01  1.49602951e-04\n",
      "  -8.45809031e-01  1.66077320e-01 -1.10204972e-01  1.59498033e-01\n",
      "   3.50316678e-02  6.89089875e-02  3.83383496e-02  1.11350092e-02]\n",
      " [-2.63706316e-01  3.32675656e-02  5.47537343e-01  1.65506918e-03\n",
      "   7.19312103e-02  4.50981159e-01  4.14579370e-02 -6.40998226e-01\n",
      "   1.62088016e-02  8.96749380e-02  9.44014364e-03 -1.82763458e-03]\n",
      " [-2.41858698e-02 -8.77510045e-01  4.94589815e-03 -2.60223891e-02\n",
      "   1.30384197e-01  8.84876601e-02  2.17787958e-02 -1.45387921e-02\n",
      "  -5.45122788e-02 -4.38370588e-01  8.95176254e-02  4.46938202e-03]\n",
      " [-4.02912213e-02 -4.39261594e-01 -5.09587908e-03 -2.16707210e-02\n",
      "   7.32253010e-02 -2.40902683e-01  6.80244996e-02 -4.61621474e-02\n",
      "   1.14561492e-01  8.47580283e-01  2.13920040e-03  5.70500563e-02]\n",
      " [ 2.33690082e-02  8.80282421e-02 -1.78659715e-02 -1.81991572e-02\n",
      "   2.56661816e-02 -2.71574542e-02  5.91173939e-03 -1.72089266e-02\n",
      "   4.33773858e-02  2.40914303e-02  9.92796606e-01  3.49291210e-02]\n",
      " [-1.38306491e-02  2.80856534e-02 -4.84523965e-03 -1.79134725e-02\n",
      "   3.00182497e-03  2.45172400e-02 -1.89619497e-03  1.05996334e-02\n",
      "   8.27853256e-04 -4.62969366e-02 -3.57910268e-02  9.97258441e-01]\n",
      " [-8.76708334e-03 -2.95330653e-02 -3.40178737e-03  9.86867618e-01\n",
      "   7.12218554e-03 -3.96650296e-03 -2.23725688e-03  1.66790482e-03\n",
      "   1.56013079e-01 -1.43270170e-02  1.34958872e-02  1.81642682e-02]\n",
      " [-4.40474402e-03  9.15471666e-03 -6.52169334e-03 -1.55542286e-01\n",
      "   1.52791726e-02 -1.88533015e-02  3.75728900e-03 -1.02335337e-02\n",
      "   9.76641439e-01 -1.38146379e-01 -4.37051908e-02 -1.14037642e-02]]\n"
     ]
    }
   ],
   "source": [
    "#Fit the model using sklearn PCA and assign tomodel\n",
    "from sklearn.decomposition import PCA\n",
    "model = PCA()\n",
    "model.fit(df)\n",
    "transformed = model.transform(df)\n",
    "print('Principle components: ',model.components_)"
   ]
  },
  {
   "cell_type": "code",
   "execution_count": 28,
   "metadata": {},
   "outputs": [
    {
     "data": {
      "image/png": "[encoded data removed]",
      "text/plain": [
       "<Figure size 432x288 with 1 Axes>"
      ]
     },
     "metadata": {
      "needs_background": "light"
     },
     "output_type": "display_data"
    }
   ],
   "source": [
    "#Standardizaton is to do for both supervised and unsupervised learning\n",
    "from sklearn.preprocessing import StandardScaler\n",
    "from sklearn.pipeline import make_pipeline\n",
    "\n",
    "# PCA variance\n",
    "scaler = StandardScaler()\n",
    "pca = PCA()\n",
    "pipeline = make_pipeline(scaler,pca)\n",
    "pipeline.fit(df_with_target)\n",
    "\n",
    "plt.bar(range(pca.n_components_), pca.explained_variance_)\n",
    "plt.xlabel('PCA feature')\n",
    "plt.ylabel('variance')\n",
    "plt.show()"
   ]
  },
  {
   "cell_type": "code",
   "execution_count": 38,
   "metadata": {},
   "outputs": [
    {
     "data": {
      "image/png": "[encoded data removed]",
      "text/plain": [
       "<Figure size 432x288 with 1 Axes>"
      ]
     },
     "metadata": {
      "needs_background": "light"
     },
     "output_type": "display_data"
    }
   ],
   "source": [
    "# apply PCA\n",
    "pca = PCA(n_components =2)\n",
    "pca.fit(df)\n",
    "transformed = pca.transform(df)\n",
    "x = transformed[:,0]\n",
    "y = transformed[:,1]\n",
    "color = ['#10487d' if i=='p' else '#7d1010' for i in df_original.loc[:,'class']]\n",
    "plt.scatter(x,y,c = color)\n",
    "plt.show()"
   ]
  },
  {
   "cell_type": "markdown",
   "metadata": {},
   "source": [
    "The PCA model accuracy did not increase significantly after tuning"
   ]
  },
  {
   "cell_type": "markdown",
   "metadata": {},
   "source": [
    "### <font color='#A52A2A'>5.2 K-Means Clustering</font>"
   ]
  },
  {
   "cell_type": "markdown",
   "metadata": {},
   "source": [
    "To tune the Kmeans clustering model, after I make clustering label, I labeled high accuracy probability prediction. Last, I checked the best number of clusters. On the graph below we can see that the area around 2 clusters was flat, which indicated the best number of clusters. "
   ]
  },
  {
   "cell_type": "code",
   "execution_count": 36,
   "metadata": {},
   "outputs": [
    {
     "data": {
      "text/plain": [
       "array([[ 4.74278136,  3.89181832,  6.24630509,  0.11855218,  7.25150159,\n",
       "         5.73145772,  7.53323848,  8.30645851,  0.23292016,  1.73068184,\n",
       "         0.68825501,  1.04634108],\n",
       "       [12.06059822,  4.44246509,  5.87229177,  0.32017333,  7.57125662,\n",
       "         8.85576974, 24.49911351,  8.75710159,  0.29038276,  1.74006981,\n",
       "         0.45107126,  1.07191863]])"
      ]
     },
     "execution_count": 36,
     "metadata": {},
     "output_type": "execute_result"
    }
   ],
   "source": [
    "from sklearn.cluster import KMeans\n",
    "\n",
    "kmeans = KMeans(n_clusters=2, random_state=0) \n",
    "\n",
    "kmeans.fit(df)\n",
    "\n",
    "kmeans.cluster_centers_"
   ]
  },
  {
   "cell_type": "code",
   "execution_count": 37,
   "metadata": {},
   "outputs": [
    {
     "name": "stdout",
     "output_type": "stream",
     "text": [
      "[1 1 1 ... 0 0 0]\n",
      "61069\n"
     ]
    }
   ],
   "source": [
    "klabels = kmeans.labels_\n",
    "\n",
    "print(klabels)\n",
    "print(len(klabels))"
   ]
  },
  {
   "cell_type": "markdown",
   "metadata": {},
   "source": [
    "The kmeans labels are not sure which label is 0. So there is only two possiblity. so instead of creating permutation looping code, I can step by step manually below."
   ]
  },
  {
   "cell_type": "code",
   "execution_count": 39,
   "metadata": {},
   "outputs": [],
   "source": [
    "# p = 0, e = 1 possibility\n",
    "target_p0 = target.replace('p', 0)\n",
    "target_p0 = target_p0.replace('e', 1)"
   ]
  },
  {
   "cell_type": "code",
   "execution_count": 40,
   "metadata": {},
   "outputs": [
    {
     "name": "stdout",
     "output_type": "stream",
     "text": [
      "Result: 36583 out of 61069 samples were correctly labeled.\n",
      "Accuracy score when  p = 0, e = 1: 0.60\n"
     ]
    }
   ],
   "source": [
    "# check how many of the samples were correctly labeled\n",
    "correct_labels = sum(target_p0['class'] == klabels)\n",
    "\n",
    "print(\"Result: %d out of %d samples were correctly labeled.\" % (correct_labels, target_p0.size))\n",
    "\n",
    "print('Accuracy score when  p = 0, e = 1: {0:0.2f}'. format(correct_labels/float(target_p0.size)))"
   ]
  },
  {
   "cell_type": "code",
   "execution_count": 41,
   "metadata": {},
   "outputs": [],
   "source": [
    "# first p = 1, e = 0\n",
    "target_p1 = target.replace('p', 1)\n",
    "target_p1 = target_p1.replace('e', 0)"
   ]
  },
  {
   "cell_type": "code",
   "execution_count": 42,
   "metadata": {},
   "outputs": [
    {
     "name": "stdout",
     "output_type": "stream",
     "text": [
      "Result: 24486 out of 61069 samples were correctly labeled.\n",
      "Accuracy score when  p = 1, e = 0: 0.40\n"
     ]
    }
   ],
   "source": [
    "# check how many of the samples were correctly labeled\n",
    "correct_labels = sum(target_p1['class'] == klabels)\n",
    "\n",
    "print(\"Result: %d out of %d samples were correctly labeled.\" % (correct_labels, target_p1.size))\n",
    "\n",
    "print('Accuracy score when  p = 1, e = 0: {0:0.2f}'. format(correct_labels/float(target_p1.size)))"
   ]
  },
  {
   "cell_type": "markdown",
   "metadata": {},
   "source": [
    "when p = 0, e = 1, the result was high accuracy"
   ]
  },
  {
   "cell_type": "code",
   "execution_count": 47,
   "metadata": {},
   "outputs": [
    {
     "data": {
      "image/png": "[encoded data removed]",
      "text/plain": [
       "<Figure size 1080x432 with 1 Axes>"
      ]
     },
     "metadata": {
      "needs_background": "light"
     },
     "output_type": "display_data"
    }
   ],
   "source": [
    "from sklearn.cluster import KMeans\n",
    "cs = []\n",
    "for i in range(1, 11):\n",
    "    kmeans = KMeans(n_clusters = i, init = 'k-means++', max_iter = 300, n_init = 10, random_state = 0)\n",
    "    kmeans.fit(df)\n",
    "    cs.append(kmeans.inertia_)\n",
    "plt.plot(range(1, 11), cs)\n",
    "plt.xlabel('Number of clusters')\n",
    "plt.ylabel('CS')\n",
    "plt.show()"
   ]
  },
  {
   "cell_type": "markdown",
   "metadata": {},
   "source": [
    "Let's explore the number of clusters, I adjust the number of cluster after the graph above when n = 4, n = 6"
   ]
  },
  {
   "cell_type": "code",
   "execution_count": 43,
   "metadata": {},
   "outputs": [
    {
     "name": "stdout",
     "output_type": "stream",
     "text": [
      "Result: 20385 out of 61069 samples were correctly labeled.\n",
      "Accuracy score: 0.33\n"
     ]
    }
   ],
   "source": [
    "kmeans = KMeans(n_clusters=4, random_state=0) \n",
    "\n",
    "kmeans.fit(df)\n",
    "\n",
    "kmeans.cluster_centers_\n",
    "labels = kmeans.labels_\n",
    "\n",
    "# check how many of the samples were correctly labeled\n",
    "correct_labels = sum(target_p0['class'] == labels)\n",
    "\n",
    "print(\"Result: %d out of %d samples were correctly labeled.\" % (correct_labels, target_p0.size))\n",
    "\n",
    "print('Accuracy score: {0:0.2f}'. format(correct_labels/float(target_p0.size)))"
   ]
  },
  {
   "cell_type": "code",
   "execution_count": 44,
   "metadata": {},
   "outputs": [
    {
     "name": "stdout",
     "output_type": "stream",
     "text": [
      "Result: 14144 out of 61069 samples were correctly labeled.\n",
      "Accuracy score: 0.23\n"
     ]
    }
   ],
   "source": [
    "kmeans = KMeans(n_clusters=6, random_state=0) \n",
    "\n",
    "kmeans.fit(df)\n",
    "\n",
    "kmeans.cluster_centers_\n",
    "labels = kmeans.labels_\n",
    "\n",
    "# check how many of the samples were correctly labeled\n",
    "correct_labels = sum(target_p0['class'] == labels)\n",
    "\n",
    "print(\"Result: %d out of %d samples were correctly labeled.\" % (correct_labels, target_p0.size))\n",
    "\n",
    "print('Accuracy score: {0:0.2f}'. format(correct_labels/float(target_p0.size)))"
   ]
  },
  {
   "cell_type": "markdown",
   "metadata": {},
   "source": [
    "### <font color='#A52A2A'>Hierachy Method</font>"
   ]
  },
  {
   "cell_type": "markdown",
   "metadata": {},
   "source": [
    "I tried to work Hierachy model, but the computation took too long to complete. Since Random Forest model result was good, I will pick random samples based on Random Forest."
   ]
  },
  {
   "cell_type": "code",
   "execution_count": 45,
   "metadata": {},
   "outputs": [
    {
     "data": {
      "image/png": "[encoded data removed]",
      "text/plain": [
       "<Figure size 1080x432 with 1 Axes>"
      ]
     },
     "metadata": {
      "needs_background": "light"
     },
     "output_type": "display_data"
    }
   ],
   "source": [
    "from scipy.cluster.hierarchy import linkage,dendrogram\n",
    "plt.rcParams[\"figure.figsize\"] = [15, 6]\n",
    "plt.rcParams[\"figure.autolayout\"] = True\n",
    "graph = linkage(df.iloc[1200:1220,:],method = 'single')\n",
    "dendrogram(graph, leaf_rotation = 90, leaf_font_size = 10)\n",
    "plt.show()"
   ]
  },
  {
   "cell_type": "code",
   "execution_count": null,
   "metadata": {},
   "outputs": [],
   "source": [
    "from sklearn.cluster import AgglomerativeClustering\n",
    "cluster = AgglomerativeClustering(n_clusters=2, affinity='euclidean', linkage='ward')  \n",
    "cluster.fit_predict(df)"
   ]
  },
  {
   "cell_type": "markdown",
   "metadata": {},
   "source": [
    "## <font color='#A52A2A'>6. Results and Analysis:</font>"
   ]
  },
  {
   "cell_type": "markdown",
   "metadata": {},
   "source": [
    "## Result\n",
    "\n",
    "- The Random Forest method accuracy: 0.996\n",
    "- The PCA method accuracy: 0.610\n",
    "- The Kmean Cluster method accuracy: 0.60\n",
    "\n",
    "\n",
    "## Analysis\n",
    "- After accuracy rate comparison, The Random Forest Classifier looks like the best model. \n",
    "- Both PCA and Kmeans the accuracy rate were about 60%. 60% may be enough accuracy for unsupervised machine learning problem.\n",
    "- I thought the dataset was nice and clean. I took a long time to look for a good dataset and EDA was enough. But Accuracy rate was not as high as I expected. \n",
    "- let's drop simply focus on two variable cap color and cap-diameter with Kmeans. As you can see the graph below, when I choose the two or three features, the cluster will have split nicely."
   ]
  },
  {
   "cell_type": "code",
   "execution_count": 48,
   "metadata": {},
   "outputs": [
    {
     "data": {
      "image/png": "[encoded data removed]",
      "text/plain": [
       "<Figure size 1080x432 with 1 Axes>"
      ]
     },
     "metadata": {
      "needs_background": "light"
     },
     "output_type": "display_data"
    }
   ],
   "source": [
    "# As you can see there is no labels in data\n",
    "data_unsupervise = ['cap-diameter', 'cap-color']\n",
    "plt.scatter(df['cap-diameter'],df['cap-color'])\n",
    "plt.xlabel('cap-diameter')\n",
    "plt.ylabel('cap-color')\n",
    "plt.show()"
   ]
  },
  {
   "cell_type": "code",
   "execution_count": 49,
   "metadata": {},
   "outputs": [
    {
     "data": {
      "image/png": "[encoded data removed]",
      "text/plain": [
       "<Figure size 1080x432 with 1 Axes>"
      ]
     },
     "metadata": {
      "needs_background": "light"
     },
     "output_type": "display_data"
    }
   ],
   "source": [
    "# KMeans Clustering\n",
    "df2 = df.loc[:,['cap-diameter', 'cap-color']]\n",
    "from sklearn.cluster import KMeans\n",
    "kmeans = KMeans(n_clusters = 2)\n",
    "kmeans.fit(df2)\n",
    "labels = kmeans.predict(df2)\n",
    "plt.scatter(df['cap-diameter'],df['cap-color'],c = labels)\n",
    "plt.xlabel('cap-diameter')\n",
    "plt.ylabel('cap-color')\n",
    "plt.show()"
   ]
  },
  {
   "cell_type": "code",
   "execution_count": 50,
   "metadata": {},
   "outputs": [
    {
     "data": {
      "image/png": "[encoded data removed]",
      "text/plain": [
       "<Figure size 1080x432 with 1 Axes>"
      ]
     },
     "metadata": {
      "needs_background": "light"
     },
     "output_type": "display_data"
    }
   ],
   "source": [
    "# KMeans Clustering\n",
    "df2 = df.loc[:,['cap-diameter', 'cap-shape', 'cap-color']]\n",
    "from sklearn.cluster import KMeans\n",
    "kmeans = KMeans(n_clusters = 2)\n",
    "kmeans.fit(df2)\n",
    "labels = kmeans.predict(df2)\n",
    "plt.scatter(df['cap-diameter'],df['cap-shape'],df['cap-color'],c = labels)\n",
    "plt.xlabel('cap-diameter')\n",
    "plt.ylabel('cap-color')\n",
    "plt.show()"
   ]
  },
  {
   "cell_type": "markdown",
   "metadata": {},
   "source": [
    "## <font color='#A52A2A'>7. Discussion and Conclusion:</font> \n",
    "\n",
    "## Conclusion\n",
    "- The Random Forest classifier was a nice model which we can examine results highly for this dataset.  \n",
    "- When I picked a few features, it was well balanced to split. However, when I consider all features(11), the accuracy score is 0.6, I was not able to find easily the expected result even if I standardized data, and adjust the number of clusters. In the future, if I explore dropping off more features, it may get a higher accuracy rate.\n",
    "\n",
    "## Discussion\n",
    "- After I talked with a mushroom expert, I learned that it is almost impossible to predict whether a mushroom is a poison or not, based on only physical characteristics, like shape and color.  Instead, they can predict by chemical characteristics. This dataset does not contain chemical characteristics. However, in spite of having the chemical characteristics in the dataset, we achieved a reasonable accuracy of 60%. \n",
    "- Depending on the project scope, I wonder when is a good stopping point and how can we know whether the dataset is not enough information to lead to a conclusion.\n",
    "\n",
    "\n",
    "## Reference\n",
    "\n",
    "- https://en.wikipedia.org/wiki/Mushroom\n",
    "- https://ift.onlinelibrary.wiley.com/doi/abs/10.1111/1541-4337.12708"
   ]
  },
  {
   "cell_type": "markdown",
   "metadata": {},
   "source": []
  }
 ],
 "metadata": {
  "celltoolbar": "Slideshow",
  "kernelspec": {
   "display_name": "Python 3",
   "language": "python",
   "name": "python3"
  },
  "language_info": {
   "codemirror_mode": {
    "name": "ipython",
    "version": 3
   },
   "file_extension": ".py",
   "mimetype": "text/x-python",
   "name": "python",
   "nbconvert_exporter": "python",
   "pygments_lexer": "ipython3",
   "version": "3.8.8"
  }
 },
 "nbformat": 4,
 "nbformat_minor": 2
}
